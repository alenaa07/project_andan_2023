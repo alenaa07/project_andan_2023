{
  "nbformat": 4,
  "nbformat_minor": 0,
  "metadata": {
    "colab": {
      "provenance": []
    },
    "kernelspec": {
      "name": "python3",
      "display_name": "Python 3"
    },
    "language_info": {
      "name": "python"
    }
  },
  "cells": [
    {
      "cell_type": "markdown",
      "source": [
        "Парсер был взят из открытого репозитория GitHub https://github.com/mitchelljy/Trending-YouTube-Scraper/blob/master/scraper.py"
      ],
      "metadata": {
        "id": "E1fQl_JHvS0G"
      }
    },
    {
      "cell_type": "code",
      "source": [
        "import requests, sys, time, os, argparse\n",
        "import pandas as pd\n",
        "import numpy as np"
      ],
      "metadata": {
        "id": "vbD9m5lPoYCM"
      },
      "execution_count": null,
      "outputs": []
    },
    {
      "cell_type": "code",
      "source": [
        "# список запрашиваемых параметров\n",
        "snippet_features = [\"title\",\n",
        "                    \"publishedAt\",\n",
        "                    \"channelId\",\n",
        "                    \"channelTitle\",\n",
        "                    \"categoryId\"]\n",
        "\n",
        "# список символов, которые необходимо удалить - \\n (перенос строки) и \" (двойные кавычки)\n",
        "unsafe_characters = ['\\n', '\"']\n",
        "\n",
        "# задаем порядок столбцов в итогой таблице\n",
        "header = [\"video_id\"] + snippet_features + [\"trending_date\", \"tags\", \"view_count\", \"likes\", \"dislikes\",\n",
        "                                            \"comment_count\", \"thumbnail_link\", \"comments_disabled\",\n",
        "                                            \"ratings_disabled\", \"description\"]\n",
        "\n",
        "\n",
        "def setup(api_path, code_path):\n",
        "    with open(api_path, 'r') as file:\n",
        "        api_key = file.readline() # считываем api-ключ из файла \n",
        "\n",
        "    with open(code_path) as file:\n",
        "        country_codes = [x.rstrip() for x in file] # считываем коды стран\n",
        "\n",
        "    return api_key, country_codes\n",
        "\n",
        "\n",
        "def prepare_feature(feature):\n",
        "    # удаляем элементы, которые ранее были указаны в списке unsafe_characters\n",
        "    for ch in unsafe_characters:\n",
        "        feature = str(feature).replace(ch, \"\")\n",
        "    return f'\"{feature}\"'\n",
        "\n",
        "\n",
        "def api_request(page_token, country_code):\n",
        "    # формируем URL ссылку и запрашиваем JSON \n",
        "    request_url = f\"https://www.googleapis.com/youtube/v3/videos?part=id,statistics,snippet{page_token}chart=mostPopular&regionCode={country_code}&maxResults=50&key={api_key}\"\n",
        "    request = requests.get(request_url)\n",
        "    if request.status_code == 429: # действия в случае ошибки, возникающей при большом количестве запросов\n",
        "        print(\"Temp-Banned due to excess requests, please wait and continue later\")\n",
        "        sys.exit()\n",
        "    return request.json()\n",
        "\n",
        "\n",
        "def get_tags(tags_list):\n",
        "    # объединяем список тегов, в качестве разделителя используем вертикальную черту |\n",
        "    return prepare_feature(\"|\".join(tags_list))\n",
        "\n",
        "\n",
        "def get_videos(items):\n",
        "    lines = []\n",
        "    for video in items:\n",
        "        comments_disabled = False\n",
        "        ratings_disabled = False\n",
        "\n",
        "        # в случае отсутствия статистики видео делаем вывод о том, что видео удалено, поэтому мы его пропускаем \n",
        "        if \"statistics\" not in video:\n",
        "            continue\n",
        "\n",
        "        video_id = prepare_feature(video['id'])\n",
        "\n",
        "        # snippet и statistics являются подразделами статистики, они содержат наибольшее количество информации\n",
        "        snippet = video['snippet']\n",
        "        statistics = video['statistics']\n",
        "\n",
        "        # этот список содержит все параметры из snippet, которые не требуют специальной обработки\n",
        "        features = [prepare_feature(snippet.get(feature, \"\")) for feature in snippet_features]\n",
        "\n",
        "        # ниже приведены параметры особого вида, которые требуют уникальной обработки или не находятся в словаре snippet.\n",
        "        description = snippet.get(\"description\", \"\")\n",
        "        thumbnail_link = snippet.get(\"thumbnails\", dict()).get(\"default\", dict()).get(\"url\", \"\")\n",
        "        trending_date = time.strftime(\"%y.%d.%m\")\n",
        "        tags = get_tags(snippet.get(\"tags\", [\"[none]\"]))\n",
        "        view_count = statistics.get(\"viewCount\", 0)\n",
        "\n",
        "        # если у видео отсутствуют данные о количестве лайков или комментариев, делаем вывод о том, что они отключены\n",
        "        if 'likeCount' in statistics:\n",
        "            likes = statistics['likeCount']\n",
        "            dislikes = 0\n",
        "        else:\n",
        "            ratings_disabled = True\n",
        "            likes = 0\n",
        "            dislikes = 0\n",
        "\n",
        "        if 'commentCount' in statistics:\n",
        "            comment_count = statistics['commentCount']\n",
        "        else:\n",
        "            comments_disabled = True\n",
        "            comment_count = 0\n",
        "\n",
        "\n",
        "        # собирает всю информацию в одну последовательно отформатированную строку\n",
        "        line = [video_id] + features + [prepare_feature(x) for x in [trending_date, tags, view_count, likes, dislikes,\n",
        "                                                                       comment_count, thumbnail_link, comments_disabled,\n",
        "                                                                       ratings_disabled, description]]\n",
        "        lines.append(\",\".join(line))\n",
        "    return lines\n",
        "\n",
        "\n",
        "def get_pages(country_code, next_page_token=\"&\"):\n",
        "    country_data = []\n",
        "\n",
        "\n",
        "    while next_page_token is not None:\n",
        "        # страница данных, то есть список видео и все необходимые данные\n",
        "        video_data_page = api_request(next_page_token, country_code)\n",
        "\n",
        "        # Get the next page token and build a string which can be injected into the request with it, unless it's None,\n",
        "        # then let the whole thing be None so that the loop ends after this cycle\n",
        "        # получаем токен следующей страницы и создаем строку, которая может быть введена в запрос вместе с ним, если это не None \n",
        "        # если же это None, цикл закончится при следующем запуске\n",
        "        next_page_token = video_data_page.get(\"nextPageToken\", None)\n",
        "        next_page_token = f\"&pageToken={next_page_token}&\" if next_page_token is not None else next_page_token\n",
        "\n",
        "        # получаем все элементы в виде списка и передаем их в функцию get_videos\n",
        "        items = video_data_page.get('items', [])\n",
        "        country_data += get_videos(items)\n",
        "\n",
        "    return country_data\n",
        "\n",
        "\n",
        "def write_to_file(country_code, country_data):\n",
        "\n",
        "    print(f\"Writing {country_code} data to file...\")\n",
        "\n",
        "    if not os.path.exists(output_dir):\n",
        "        os.makedirs(output_dir)\n",
        "\n",
        "    with open(f\"{output_dir}/{time.strftime('%y.%d.%m')}_{country_code}_videos.csv\", \"w+\", encoding='utf-8') as file:\n",
        "        for row in country_data:\n",
        "            file.write(f\"{row}\\n\")\n",
        "\n",
        "\n",
        "def get_data():\n",
        "    for country_code in country_codes:\n",
        "        country_data = [\",\".join(header)] + get_pages(country_code)\n",
        "        write_to_file(country_code, country_data)\n",
        "\n",
        "\n",
        "if __name__ == \"__main__\":\n",
        "\n",
        "    parser = argparse.ArgumentParser()\n",
        "    parser.add_argument('--key_path', help='Path to the file containing the api key, by default will use api_key.txt in the same directory', default='api_key.txt')\n",
        "    parser.add_argument('--country_code_path', help='Path to the file containing the list of country codes to scrape, by default will use country_codes.txt in the same directory', default='country_codes.txt')\n",
        "    parser.add_argument('--output_dir', help='Path to save the outputted files in', default='output/')\n",
        "\n",
        "    args, unknown = parser.parse_known_args()\n",
        "\n",
        "    output_dir = args.output_dir\n",
        "    api_key, country_codes = setup(args.key_path, args.country_code_path)\n",
        "\n",
        "    get_data()"
      ],
      "metadata": {
        "id": "_w48BlN-lNFH"
      },
      "execution_count": null,
      "outputs": []
    },
    {
      "cell_type": "code",
      "source": [
        "country_decode = { 'US': 'United States', 'DE': 'Germany', 'CA': 'Canada', 'FR': 'France', 'KR': 'South Korea', 'PT': 'Portugal', 'ES': 'Spain', 'BE': 'Belgium',\n",
        "    'GB': 'United Kingdom', 'IE': 'Ireland', 'IS': 'Iceland', 'IT': 'Italy', 'AT': 'Austria', 'CZ': 'Czech Republic', 'PL': 'Poland', 'UA': 'Ukraine',\n",
        "    'NO': 'Norway', 'SE': 'Sweden', 'FI': 'Finland', 'EE': 'Estonia', 'LV': 'Latvia', 'LT': 'Lithuania', 'BY': 'Belarus', 'GR': 'Greece', 'DK': 'Denmark',\n",
        "    'GE': 'Georgia', 'AU': 'Australia', 'BG': 'Bulgaria', 'HR': 'Croatia', 'HU': 'Hungary', 'LI': 'Liechtenstein', 'MD': 'Moldova', 'NZ': 'New Zealand',\n",
        "    'RO': 'Romania', 'RS': 'Serbia'}"
      ],
      "metadata": {
        "id": "YcGGM6NJ9-ru"
      },
      "execution_count": null,
      "outputs": []
    },
    {
      "cell_type": "code",
      "source": [
        "with open('country_codes.txt', 'r', encoding = 'utf-8') as file:\n",
        "  baza = list(map(lambda x: x.strip(), file.readlines()))\n",
        "res = []\n",
        "df = pd.read_csv(f'/content/output/23.14.05_{baza[0]}_videos.csv', sep=',') # в графе расположения файла следует прописывать дату сбора информации\n",
        "df['country'] = np.full(df.shape[0], country_decode[baza[0]]) # добавление в датасет нового столбца - название страны\n",
        "for name in baza[1:]:\n",
        "  path = '/content/output/23.14.05_' + name + '_videos.csv'\n",
        "  df_temp = pd.read_csv(path, sep=',')\n",
        "  df_temp['country'] = np.full(df_temp.shape[0], country_decode[name]) \n",
        "  df = pd.concat([df, df_temp])"
      ],
      "metadata": {
        "id": "HPnBNeO-n2uF"
      },
      "execution_count": null,
      "outputs": []
    },
    {
      "cell_type": "code",
      "source": [
        "from googleapiclient.discovery import build\n",
        "\n",
        "with open('/content/api_key.txt', 'r', encoding = 'utf-8') as file:\n",
        "  api_val = file.readline().strip()\n",
        "\n",
        "api_key = api_val\n",
        "youtube = build('youtube', 'v3', developerKey=api_key)\n",
        "\n",
        "def get_sub_value(chan_id): # функция, которая получает количество подписчиков ютуб канала\n",
        "  response = youtube.channels().list(part='statistics', id = chan_id).execute()\n",
        "\n",
        "  subscriber_count = response['items'][0]['statistics']['subscriberCount']\n",
        "  return subscriber_count"
      ],
      "metadata": {
        "id": "iunxAKQ-znm7"
      },
      "execution_count": null,
      "outputs": []
    },
    {
      "cell_type": "code",
      "source": [
        "df['subscriber_count'] = df['channelId'].apply(lambda x: get_sub_value(x)) # добавление нового признака - количества подписчиков канала"
      ],
      "metadata": {
        "id": "_F1uPtPx2M59"
      },
      "execution_count": null,
      "outputs": []
    },
    {
      "cell_type": "code",
      "source": [
        "df.to_csv('dataset.csv', index= False) # записываем датасет в файл формата CSV"
      ],
      "metadata": {
        "id": "LRpre-plD5Lh"
      },
      "execution_count": null,
      "outputs": []
    }
  ]
}