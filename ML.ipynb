{
  "nbformat": 4,
  "nbformat_minor": 0,
  "metadata": {
    "colab": {
      "provenance": []
    },
    "kernelspec": {
      "name": "python3",
      "display_name": "Python 3"
    },
    "language_info": {
      "name": "python"
    }
  },
  "cells": [
    {
      "cell_type": "markdown",
      "source": [
        "# Машинное обучение #"
      ],
      "metadata": {
        "id": "qdsb7sUoA6y_"
      }
    },
    {
      "cell_type": "code",
      "execution_count": 47,
      "metadata": {
        "id": "w3AvKfUzi0QE"
      },
      "outputs": [],
      "source": [
        "import pandas as pd\n",
        "import numpy as np\n",
        "import matplotlib.pyplot as plt\n",
        "import seaborn as sns\n",
        "from sklearn.model_selection import train_test_split\n",
        "from sklearn.linear_model import LinearRegression\n",
        "from sklearn.metrics import mean_squared_error, mean_absolute_error, r2_score"
      ]
    },
    {
      "cell_type": "markdown",
      "source": [
        "### Этап 0 - загрузка датасета ###"
      ],
      "metadata": {
        "id": "9mF08iB5HsXM"
      }
    },
    {
      "cell_type": "code",
      "source": [
        "df = pd.read_csv('dataset_after_EDA.csv', engine='python')\n",
        "df = df.dropna() # в процессе выгрузки датасета после проведения EDA появились пропуски, попробуем найти неисправность\n",
        "df.head()"
      ],
      "metadata": {
        "colab": {
          "base_uri": "https://localhost:8080/",
          "height": 652
        },
        "id": "2kaXdpzPjfXk",
        "outputId": "db2bdbc8-1c3b-4c32-f7ac-dea76fcdfbf8"
      },
      "execution_count": 12,
      "outputs": [
        {
          "output_type": "execute_result",
          "data": {
            "text/plain": [
              "                                               title          publishedAt  \\\n",
              "0  How the Warriors were in the Locker Room after...  2023-05-13 12:48:44   \n",
              "1  FlightReacts To #6 WARRIORS at #7 LAKERS | FUL...  2023-05-13 06:20:56   \n",
              "2     GUESS THE MOM! *Emotional Mother's Day Reveal*  2023-05-13 14:00:07   \n",
              "3    Why Lightbulbs Might Be The Best Invention Ever  2023-05-13 14:06:52   \n",
              "4        WATERTOK: The Strangest Community on TikTok  2023-05-12 19:00:20   \n",
              "\n",
              "    channelTitle       category trending_date  \\\n",
              "0      RDCworld1         Sports    2023-05-14   \n",
              "1   FlightReacts  Entertainment    2023-05-14   \n",
              "2  Jordan Matter  Entertainment    2023-05-14   \n",
              "3     Veritasium      Education    2023-05-14   \n",
              "4  Kurtis Conner         Comedy    2023-05-14   \n",
              "\n",
              "                                                tags  view_count     likes  \\\n",
              "0                                             [none]   1733159.0  132947.0   \n",
              "1  Reactions|Family|vlog|life|NBA|sports|Friends|...    668981.0   37032.0   \n",
              "2  jordan matter|salish matter|say say matter|bre...   4225973.0   87240.0   \n",
              "3                         veritasium|science|physics   1008255.0   65421.0   \n",
              "4  kurtis conner|kurtis connor|watertok|tiktok|co...   1393152.0  138921.0   \n",
              "\n",
              "   comment_count comments_disabled ratings_disabled  \\\n",
              "0         5374.0             False            False   \n",
              "1         3496.0             False            False   \n",
              "2        11058.0             False            False   \n",
              "3         2934.0             False            False   \n",
              "4         9946.0             False            False   \n",
              "\n",
              "                                         description        country  \\\n",
              "0  Another installment to the Warriors Locker Roo...  United States   \n",
              "1  Thanks for Tuning In!! Lets Get 5 Million Toge...  United States   \n",
              "2  Today we reveal my wife for the first time EVE...  United States   \n",
              "3  Lightbulbs might be the best idea ever – just ...  United States   \n",
              "4  The Watertok community on TikTok is really str...  United States   \n",
              "\n",
              "   subscriber_count  daytime  times_appeared  \n",
              "0         6320000.0      1.0             3.0  \n",
              "1         4830000.0      1.0             3.0  \n",
              "2        15900000.0      1.0             4.0  \n",
              "3        13600000.0      1.0             5.0  \n",
              "4         4380000.0      0.0             8.0  "
            ],
            "text/html": [
              "\n",
              "  <div id=\"df-97c0ddec-545c-46c5-a495-68c7afe4b462\">\n",
              "    <div class=\"colab-df-container\">\n",
              "      <div>\n",
              "<style scoped>\n",
              "    .dataframe tbody tr th:only-of-type {\n",
              "        vertical-align: middle;\n",
              "    }\n",
              "\n",
              "    .dataframe tbody tr th {\n",
              "        vertical-align: top;\n",
              "    }\n",
              "\n",
              "    .dataframe thead th {\n",
              "        text-align: right;\n",
              "    }\n",
              "</style>\n",
              "<table border=\"1\" class=\"dataframe\">\n",
              "  <thead>\n",
              "    <tr style=\"text-align: right;\">\n",
              "      <th></th>\n",
              "      <th>title</th>\n",
              "      <th>publishedAt</th>\n",
              "      <th>channelTitle</th>\n",
              "      <th>category</th>\n",
              "      <th>trending_date</th>\n",
              "      <th>tags</th>\n",
              "      <th>view_count</th>\n",
              "      <th>likes</th>\n",
              "      <th>comment_count</th>\n",
              "      <th>comments_disabled</th>\n",
              "      <th>ratings_disabled</th>\n",
              "      <th>description</th>\n",
              "      <th>country</th>\n",
              "      <th>subscriber_count</th>\n",
              "      <th>daytime</th>\n",
              "      <th>times_appeared</th>\n",
              "    </tr>\n",
              "  </thead>\n",
              "  <tbody>\n",
              "    <tr>\n",
              "      <th>0</th>\n",
              "      <td>How the Warriors were in the Locker Room after...</td>\n",
              "      <td>2023-05-13 12:48:44</td>\n",
              "      <td>RDCworld1</td>\n",
              "      <td>Sports</td>\n",
              "      <td>2023-05-14</td>\n",
              "      <td>[none]</td>\n",
              "      <td>1733159.0</td>\n",
              "      <td>132947.0</td>\n",
              "      <td>5374.0</td>\n",
              "      <td>False</td>\n",
              "      <td>False</td>\n",
              "      <td>Another installment to the Warriors Locker Roo...</td>\n",
              "      <td>United States</td>\n",
              "      <td>6320000.0</td>\n",
              "      <td>1.0</td>\n",
              "      <td>3.0</td>\n",
              "    </tr>\n",
              "    <tr>\n",
              "      <th>1</th>\n",
              "      <td>FlightReacts To #6 WARRIORS at #7 LAKERS | FUL...</td>\n",
              "      <td>2023-05-13 06:20:56</td>\n",
              "      <td>FlightReacts</td>\n",
              "      <td>Entertainment</td>\n",
              "      <td>2023-05-14</td>\n",
              "      <td>Reactions|Family|vlog|life|NBA|sports|Friends|...</td>\n",
              "      <td>668981.0</td>\n",
              "      <td>37032.0</td>\n",
              "      <td>3496.0</td>\n",
              "      <td>False</td>\n",
              "      <td>False</td>\n",
              "      <td>Thanks for Tuning In!! Lets Get 5 Million Toge...</td>\n",
              "      <td>United States</td>\n",
              "      <td>4830000.0</td>\n",
              "      <td>1.0</td>\n",
              "      <td>3.0</td>\n",
              "    </tr>\n",
              "    <tr>\n",
              "      <th>2</th>\n",
              "      <td>GUESS THE MOM! *Emotional Mother's Day Reveal*</td>\n",
              "      <td>2023-05-13 14:00:07</td>\n",
              "      <td>Jordan Matter</td>\n",
              "      <td>Entertainment</td>\n",
              "      <td>2023-05-14</td>\n",
              "      <td>jordan matter|salish matter|say say matter|bre...</td>\n",
              "      <td>4225973.0</td>\n",
              "      <td>87240.0</td>\n",
              "      <td>11058.0</td>\n",
              "      <td>False</td>\n",
              "      <td>False</td>\n",
              "      <td>Today we reveal my wife for the first time EVE...</td>\n",
              "      <td>United States</td>\n",
              "      <td>15900000.0</td>\n",
              "      <td>1.0</td>\n",
              "      <td>4.0</td>\n",
              "    </tr>\n",
              "    <tr>\n",
              "      <th>3</th>\n",
              "      <td>Why Lightbulbs Might Be The Best Invention Ever</td>\n",
              "      <td>2023-05-13 14:06:52</td>\n",
              "      <td>Veritasium</td>\n",
              "      <td>Education</td>\n",
              "      <td>2023-05-14</td>\n",
              "      <td>veritasium|science|physics</td>\n",
              "      <td>1008255.0</td>\n",
              "      <td>65421.0</td>\n",
              "      <td>2934.0</td>\n",
              "      <td>False</td>\n",
              "      <td>False</td>\n",
              "      <td>Lightbulbs might be the best idea ever – just ...</td>\n",
              "      <td>United States</td>\n",
              "      <td>13600000.0</td>\n",
              "      <td>1.0</td>\n",
              "      <td>5.0</td>\n",
              "    </tr>\n",
              "    <tr>\n",
              "      <th>4</th>\n",
              "      <td>WATERTOK: The Strangest Community on TikTok</td>\n",
              "      <td>2023-05-12 19:00:20</td>\n",
              "      <td>Kurtis Conner</td>\n",
              "      <td>Comedy</td>\n",
              "      <td>2023-05-14</td>\n",
              "      <td>kurtis conner|kurtis connor|watertok|tiktok|co...</td>\n",
              "      <td>1393152.0</td>\n",
              "      <td>138921.0</td>\n",
              "      <td>9946.0</td>\n",
              "      <td>False</td>\n",
              "      <td>False</td>\n",
              "      <td>The Watertok community on TikTok is really str...</td>\n",
              "      <td>United States</td>\n",
              "      <td>4380000.0</td>\n",
              "      <td>0.0</td>\n",
              "      <td>8.0</td>\n",
              "    </tr>\n",
              "  </tbody>\n",
              "</table>\n",
              "</div>\n",
              "      <button class=\"colab-df-convert\" onclick=\"convertToInteractive('df-97c0ddec-545c-46c5-a495-68c7afe4b462')\"\n",
              "              title=\"Convert this dataframe to an interactive table.\"\n",
              "              style=\"display:none;\">\n",
              "        \n",
              "  <svg xmlns=\"http://www.w3.org/2000/svg\" height=\"24px\"viewBox=\"0 0 24 24\"\n",
              "       width=\"24px\">\n",
              "    <path d=\"M0 0h24v24H0V0z\" fill=\"none\"/>\n",
              "    <path d=\"M18.56 5.44l.94 2.06.94-2.06 2.06-.94-2.06-.94-.94-2.06-.94 2.06-2.06.94zm-11 1L8.5 8.5l.94-2.06 2.06-.94-2.06-.94L8.5 2.5l-.94 2.06-2.06.94zm10 10l.94 2.06.94-2.06 2.06-.94-2.06-.94-.94-2.06-.94 2.06-2.06.94z\"/><path d=\"M17.41 7.96l-1.37-1.37c-.4-.4-.92-.59-1.43-.59-.52 0-1.04.2-1.43.59L10.3 9.45l-7.72 7.72c-.78.78-.78 2.05 0 2.83L4 21.41c.39.39.9.59 1.41.59.51 0 1.02-.2 1.41-.59l7.78-7.78 2.81-2.81c.8-.78.8-2.07 0-2.86zM5.41 20L4 18.59l7.72-7.72 1.47 1.35L5.41 20z\"/>\n",
              "  </svg>\n",
              "      </button>\n",
              "      \n",
              "  <style>\n",
              "    .colab-df-container {\n",
              "      display:flex;\n",
              "      flex-wrap:wrap;\n",
              "      gap: 12px;\n",
              "    }\n",
              "\n",
              "    .colab-df-convert {\n",
              "      background-color: #E8F0FE;\n",
              "      border: none;\n",
              "      border-radius: 50%;\n",
              "      cursor: pointer;\n",
              "      display: none;\n",
              "      fill: #1967D2;\n",
              "      height: 32px;\n",
              "      padding: 0 0 0 0;\n",
              "      width: 32px;\n",
              "    }\n",
              "\n",
              "    .colab-df-convert:hover {\n",
              "      background-color: #E2EBFA;\n",
              "      box-shadow: 0px 1px 2px rgba(60, 64, 67, 0.3), 0px 1px 3px 1px rgba(60, 64, 67, 0.15);\n",
              "      fill: #174EA6;\n",
              "    }\n",
              "\n",
              "    [theme=dark] .colab-df-convert {\n",
              "      background-color: #3B4455;\n",
              "      fill: #D2E3FC;\n",
              "    }\n",
              "\n",
              "    [theme=dark] .colab-df-convert:hover {\n",
              "      background-color: #434B5C;\n",
              "      box-shadow: 0px 1px 3px 1px rgba(0, 0, 0, 0.15);\n",
              "      filter: drop-shadow(0px 1px 2px rgba(0, 0, 0, 0.3));\n",
              "      fill: #FFFFFF;\n",
              "    }\n",
              "  </style>\n",
              "\n",
              "      <script>\n",
              "        const buttonEl =\n",
              "          document.querySelector('#df-97c0ddec-545c-46c5-a495-68c7afe4b462 button.colab-df-convert');\n",
              "        buttonEl.style.display =\n",
              "          google.colab.kernel.accessAllowed ? 'block' : 'none';\n",
              "\n",
              "        async function convertToInteractive(key) {\n",
              "          const element = document.querySelector('#df-97c0ddec-545c-46c5-a495-68c7afe4b462');\n",
              "          const dataTable =\n",
              "            await google.colab.kernel.invokeFunction('convertToInteractive',\n",
              "                                                     [key], {});\n",
              "          if (!dataTable) return;\n",
              "\n",
              "          const docLinkHtml = 'Like what you see? Visit the ' +\n",
              "            '<a target=\"_blank\" href=https://colab.research.google.com/notebooks/data_table.ipynb>data table notebook</a>'\n",
              "            + ' to learn more about interactive tables.';\n",
              "          element.innerHTML = '';\n",
              "          dataTable['output_type'] = 'display_data';\n",
              "          await google.colab.output.renderOutput(dataTable, element);\n",
              "          const docLink = document.createElement('div');\n",
              "          docLink.innerHTML = docLinkHtml;\n",
              "          element.appendChild(docLink);\n",
              "        }\n",
              "      </script>\n",
              "    </div>\n",
              "  </div>\n",
              "  "
            ]
          },
          "metadata": {},
          "execution_count": 12
        }
      ]
    },
    {
      "cell_type": "markdown",
      "source": [
        "Вспомним, какие столбцы содержит наш датасет после предобработки и создания новых признаков\n",
        "\n",
        "*   `title` - название видео\n",
        "*   `publishedAt` - время публикации видео, принцип кодирования: \"DAY TIME\"\n",
        "    *   DAY - календарный день выпуска видео в формате YYYY-MM-DD\n",
        "    *   TIME - время в формате HH:MM:SS\n",
        "\n",
        "\n",
        "*   `channelTitle` - название канала, на котором видео было опубликовано\n",
        "*   `category` - категория видео\n",
        "\n",
        "*   `trending_date` - дата, в которую видео попало в список трендов\n",
        "\n",
        "*   `tags` - теги, прикрепленные автором к видео\n",
        "\n",
        "*   `view_count` - количество просмотров\n",
        "*   `likes` - количество лайков\n",
        "*   `comment_count` - количество комментариев под видео\n",
        "*   `comments_disabled` - отключены ли под видео комментарии\n",
        "*   `ratings_disabled` - отключена ли возможность просматривать количество лайков под видео\n",
        "* `description` - описание видео\n",
        "* `country` - страна, в чьи тренды попало видео\n",
        "* `subscriber_count` - количество подписчиков канала\n",
        "* `daytime` - время суток, в которое было опубликовано видео\n",
        "    *   0 - видео опубликовано ночью (с 18:00 до 6:00)\n",
        "    *   1 - видео опубликовано днем (с 6:00 до 18:00)\n",
        "* `times_appeared` - количество стран, в которых видео попало в тренды"
      ],
      "metadata": {
        "id": "WKBpWTAAB-m_"
      }
    },
    {
      "cell_type": "markdown",
      "source": [
        "### Этап 1 - предсказывание количества лайков под видео ###"
      ],
      "metadata": {
        "id": "qHsra5mTHkzy"
      }
    },
    {
      "cell_type": "markdown",
      "source": [
        "С помощью простой модели линейной регрессии попробуем предсказать количество лайков под видео. Соответственно, в качестве целевой переменной определяем столбец `likes`, в качестве вспомогательных признаков - `category`, `view_count`, `comment_count`, `country`, `subscriber_count`, `times_appeared`. Впоследствии мы планируем обучить ту же саму модель, но уже без использования признака `country`, так как есть вероятность отсутствия его влияния на обучаемую модель.\n",
        "\n",
        "Поделим датасет на тренировочный и тестовый список в пропорции 80 на 20.\n",
        "\n",
        "Также разумным будет убрать из рассмотрения повторяющиеся записи в таблице."
      ],
      "metadata": {
        "id": "051snRx0HzzL"
      }
    },
    {
      "cell_type": "code",
      "source": [
        "df = df.drop_duplicates(subset = 'title')\n",
        "df_encoded = pd.get_dummies(df, columns=['category', 'country'])\n",
        "\n",
        "df_train, df_test = train_test_split(df_encoded, test_size = 0.2, random_state = 42)\n",
        "\n",
        "X_train = df_train.drop(['title', 'publishedAt', 'channelTitle', 'trending_date', 'tags', 'likes', 'comments_disabled', 'ratings_disabled', 'description', 'daytime'], axis = 1)\n",
        "X_test = df_test.drop(['title', 'publishedAt', 'channelTitle', 'trending_date', 'tags', 'likes', 'comments_disabled', 'ratings_disabled', 'description', 'daytime'], axis = 1)\n",
        "\n",
        "\n",
        "y_train = df_train['likes']\n",
        "y_test = df_test['likes']"
      ],
      "metadata": {
        "id": "g4MDmuxJDXgg"
      },
      "execution_count": 13,
      "outputs": []
    },
    {
      "cell_type": "markdown",
      "source": [
        "Замечаем, что среди наших вспомогательных переменных есть два категориальных признака - `category` и `country`. Мы применили метод One Hot Encoding из библиотеки pandas путем использования функции get_dummies"
      ],
      "metadata": {
        "id": "dBAPd6OjS5IU"
      }
    },
    {
      "cell_type": "markdown",
      "source": [
        "Итак, зададим и обучим нашу модель, получим предсказания первого класса"
      ],
      "metadata": {
        "id": "jDuBbC0ZOXAL"
      }
    },
    {
      "cell_type": "code",
      "source": [
        "model = LinearRegression()\n",
        "model.fit(X_train, y_train)\n",
        "pred = model.predict(X_test)"
      ],
      "metadata": {
        "id": "xCibqHweKxrj"
      },
      "execution_count": 18,
      "outputs": []
    },
    {
      "cell_type": "code",
      "source": [
        "plt.figure(figsize = (8, 6))\n",
        "plt.hist(pred, bins = 40)\n",
        "plt.title('Гистограмма pred', fontsize = 15)\n",
        "plt.xlabel('Предсказанное значение (млн)', fontsize = 10)\n",
        "plt.ylabel(\"Частота\", fontsize = 10);"
      ],
      "metadata": {
        "colab": {
          "base_uri": "https://localhost:8080/",
          "height": 566
        },
        "id": "CuIhDb3gOdxC",
        "outputId": "d0fb4eab-591b-454d-fc68-46f74f2152be"
      },
      "execution_count": 25,
      "outputs": [
        {
          "output_type": "display_data",
          "data": {
            "text/plain": [
              "<Figure size 800x600 with 1 Axes>"
            ],
            "image/png": "[encoded data removed]"
          },
          "metadata": {}
        }
      ]
    },
    {
      "cell_type": "markdown",
      "source": [
        "КАКОЙ-НИБУДЬ ВЫВОД"
      ],
      "metadata": {
        "id": "7zdL5i1e1DXn"
      }
    },
    {
      "cell_type": "markdown",
      "source": [
        "Далее для оценки обученной модели посчитаем значения различных метрик"
      ],
      "metadata": {
        "id": "hSW_T4aO1Puj"
      }
    },
    {
      "cell_type": "markdown",
      "source": [
        "1. **Mean Squared Error** - среднеквадратичная"
      ],
      "metadata": {
        "id": "iZTsyFXR3d2F"
      }
    },
    {
      "cell_type": "code",
      "source": [
        "mean_squared_error(y_test, pred)"
      ],
      "metadata": {
        "colab": {
          "base_uri": "https://localhost:8080/"
        },
        "id": "2yJZAfRk1OKq",
        "outputId": "f8cc8ad7-ba19-4fd1-c7cc-17b89edf1ce0"
      },
      "execution_count": 35,
      "outputs": [
        {
          "output_type": "execute_result",
          "data": {
            "text/plain": [
              "4380084637.382946"
            ]
          },
          "metadata": {},
          "execution_count": 35
        }
      ]
    },
    {
      "cell_type": "markdown",
      "source": [
        "Получаем достаточно **большое значение** среднеквадратичной ошибки. Чем ниже значение MSE, тем лучше модель способна предсказывать целевую переменную. В дальнейшем попытаемся оптимизировать нашу модель, чтобы снизить значение метрики"
      ],
      "metadata": {
        "id": "_CFDwhop2YAr"
      }
    },
    {
      "cell_type": "markdown",
      "source": [
        "2. **Mean Absolute Error** - средняя абсолютная ошибка"
      ],
      "metadata": {
        "id": "nqsLaGa53nDa"
      }
    },
    {
      "cell_type": "code",
      "source": [
        "mean_absolute_error(y_test, pred)"
      ],
      "metadata": {
        "colab": {
          "base_uri": "https://localhost:8080/"
        },
        "id": "opPtsvDA2Elr",
        "outputId": "30543c26-e3c2-431b-90b5-640982e10df1"
      },
      "execution_count": 37,
      "outputs": [
        {
          "output_type": "execute_result",
          "data": {
            "text/plain": [
              "32494.459016955774"
            ]
          },
          "metadata": {},
          "execution_count": 37
        }
      ]
    },
    {
      "cell_type": "markdown",
      "source": [
        "Опять-таки получаем большое значение метрики. MAE измеряет среднюю абсолютную разницу между предсказанными значениями модели и фактическими значениями целевой переменной. В нашем случае, обученная **модель ошибается в среднем на 32494 лайка** при предсказывании. Полезным считаем сравнить отклонения нашей модели со стандартным отклонением показателя `likes`"
      ],
      "metadata": {
        "id": "WssEneIW4ITD"
      }
    },
    {
      "cell_type": "code",
      "source": [
        "mean_absolute_error(y_test, pred) / df['likes'].std()"
      ],
      "metadata": {
        "colab": {
          "base_uri": "https://localhost:8080/"
        },
        "id": "LugfTLWm3zvt",
        "outputId": "e675f2f4-33e2-4d32-838d-b71441bd4f43"
      },
      "execution_count": 42,
      "outputs": [
        {
          "output_type": "execute_result",
          "data": {
            "text/plain": [
              "0.25584331450589604"
            ]
          },
          "metadata": {},
          "execution_count": 42
        }
      ]
    },
    {
      "cell_type": "markdown",
      "source": [
        "Отклонения предсказанных нашей моделью значений от истинных составляет около 25% от стандартного отклонения - приемлемый, но все еще высокий уровень ошибки"
      ],
      "metadata": {
        "id": "oCXCawue5uVZ"
      }
    },
    {
      "cell_type": "markdown",
      "source": [
        "3. **R2** - коэффициент детерминации"
      ],
      "metadata": {
        "id": "MO0eg45T6JPi"
      }
    },
    {
      "cell_type": "code",
      "source": [
        "r2_score(y_test, pred)"
      ],
      "metadata": {
        "colab": {
          "base_uri": "https://localhost:8080/"
        },
        "id": "PciGH1rr42-N",
        "outputId": "4f8c3e4b-fe7a-4bfc-eae5-8c13b59c3d65"
      },
      "execution_count": 48,
      "outputs": [
        {
          "output_type": "execute_result",
          "data": {
            "text/plain": [
              "0.7408862753707615"
            ]
          },
          "metadata": {},
          "execution_count": 48
        }
      ]
    },
    {
      "cell_type": "markdown",
      "source": [
        "Довольно **хороший показатель** метрики говорит о том, что модель объясняет около 74% изменчивости целевой переменной. В других словах, около 74% вариации в целевой переменной может быть объяснено или предсказано с использованием обученной нами модели. Оставшиеся 26% изменчивости могут быть связаны с другими факторами, которые модель не учитывает."
      ],
      "metadata": {
        "id": "O1o1VKju9oY2"
      }
    },
    {
      "cell_type": "markdown",
      "source": [
        "Итак, обучив базовую модель линейной регрессии, **получаем не самые хорошие значения метрик**, несмотря на относительно высокий показатель коэффициента детерминации. В следующем пункте обучим ту же модель, но уже без учета переменной `country`, как и планировали"
      ],
      "metadata": {
        "id": "sZjUSRlu-pWL"
      }
    },
    {
      "cell_type": "code",
      "source": [],
      "metadata": {
        "id": "92rxnh3z6viO"
      },
      "execution_count": null,
      "outputs": []
    }
  ]
}