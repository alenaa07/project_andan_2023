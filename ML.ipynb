{
  "nbformat": 4,
  "nbformat_minor": 0,
  "metadata": {
    "colab": {
      "provenance": []
    },
    "kernelspec": {
      "name": "python3",
      "display_name": "Python 3"
    },
    "language_info": {
      "name": "python"
    }
  },
  "cells": [
    {
      "cell_type": "markdown",
      "source": [
        "# Machine learning #"
      ],
      "metadata": {
        "id": "qdsb7sUoA6y_"
      }
    },
    {
      "cell_type": "code",
      "execution_count": 96,
      "metadata": {
        "id": "w3AvKfUzi0QE"
      },
      "outputs": [],
      "source": [
        "import pandas as pd\n",
        "import numpy as np\n",
        "import matplotlib.pyplot as plt\n",
        "import seaborn as sns\n",
        "from sklearn.model_selection import train_test_split, GridSearchCV, RandomizedSearchCV\n",
        "from sklearn.linear_model import LinearRegression\n",
        "from sklearn.metrics import mean_squared_error, mean_absolute_error, r2_score, roc_auc_score, roc_curve, accuracy_score, precision_score, recall_score, confusion_matrix\n",
        "from sklearn import preprocessing\n",
        "from sklearn.ensemble import RandomForestClassifier\n",
        "import itertools\n",
        "import warnings\n",
        "warnings.filterwarnings(\"ignore\")"
      ]
    },
    {
      "cell_type": "markdown",
      "source": [
        "## Этап 0 - загрузка датасета ##"
      ],
      "metadata": {
        "id": "9mF08iB5HsXM"
      }
    },
    {
      "cell_type": "code",
      "source": [
        "df = pd.read_csv('dataset_after_EDA.csv', engine='python')\n",
        "df = df.dropna() # в процессе выгрузки датасета после проведения EDA появились пропуски, попробуем найти неисправность\n",
        "df.head()"
      ],
      "metadata": {
        "colab": {
          "base_uri": "https://localhost:8080/",
          "height": 652
        },
        "id": "2kaXdpzPjfXk",
        "outputId": "22fa8b44-e23b-4ac6-d9d4-d06173565c46"
      },
      "execution_count": 97,
      "outputs": [
        {
          "output_type": "execute_result",
          "data": {
            "text/plain": [
              "                                               title          publishedAt  \\\n",
              "0  How the Warriors were in the Locker Room after...  2023-05-13 12:48:44   \n",
              "1  FlightReacts To #6 WARRIORS at #7 LAKERS | FUL...  2023-05-13 06:20:56   \n",
              "2     GUESS THE MOM! *Emotional Mother's Day Reveal*  2023-05-13 14:00:07   \n",
              "3    Why Lightbulbs Might Be The Best Invention Ever  2023-05-13 14:06:52   \n",
              "4        WATERTOK: The Strangest Community on TikTok  2023-05-12 19:00:20   \n",
              "\n",
              "    channelTitle       category trending_date  \\\n",
              "0      RDCworld1         Sports    2023-05-14   \n",
              "1   FlightReacts  Entertainment    2023-05-14   \n",
              "2  Jordan Matter  Entertainment    2023-05-14   \n",
              "3     Veritasium      Education    2023-05-14   \n",
              "4  Kurtis Conner         Comedy    2023-05-14   \n",
              "\n",
              "                                                tags  view_count     likes  \\\n",
              "0                                             [none]   1733159.0  132947.0   \n",
              "1  Reactions|Family|vlog|life|NBA|sports|Friends|...    668981.0   37032.0   \n",
              "2  jordan matter|salish matter|say say matter|bre...   4225973.0   87240.0   \n",
              "3                         veritasium|science|physics   1008255.0   65421.0   \n",
              "4  kurtis conner|kurtis connor|watertok|tiktok|co...   1393152.0  138921.0   \n",
              "\n",
              "   comment_count comments_disabled ratings_disabled  \\\n",
              "0         5374.0             False            False   \n",
              "1         3496.0             False            False   \n",
              "2        11058.0             False            False   \n",
              "3         2934.0             False            False   \n",
              "4         9946.0             False            False   \n",
              "\n",
              "                                         description        country  \\\n",
              "0  Another installment to the Warriors Locker Roo...  United States   \n",
              "1  Thanks for Tuning In!! Lets Get 5 Million Toge...  United States   \n",
              "2  Today we reveal my wife for the first time EVE...  United States   \n",
              "3  Lightbulbs might be the best idea ever – just ...  United States   \n",
              "4  The Watertok community on TikTok is really str...  United States   \n",
              "\n",
              "   subscriber_count  daytime  times_appeared  \n",
              "0         6320000.0      1.0             3.0  \n",
              "1         4830000.0      1.0             3.0  \n",
              "2        15900000.0      1.0             4.0  \n",
              "3        13600000.0      1.0             5.0  \n",
              "4         4380000.0      0.0             8.0  "
            ],
            "text/html": [
              "\n",
              "  <div id=\"df-3cd8ca97-7896-4146-9f22-fa8a574db5b9\">\n",
              "    <div class=\"colab-df-container\">\n",
              "      <div>\n",
              "<style scoped>\n",
              "    .dataframe tbody tr th:only-of-type {\n",
              "        vertical-align: middle;\n",
              "    }\n",
              "\n",
              "    .dataframe tbody tr th {\n",
              "        vertical-align: top;\n",
              "    }\n",
              "\n",
              "    .dataframe thead th {\n",
              "        text-align: right;\n",
              "    }\n",
              "</style>\n",
              "<table border=\"1\" class=\"dataframe\">\n",
              "  <thead>\n",
              "    <tr style=\"text-align: right;\">\n",
              "      <th></th>\n",
              "      <th>title</th>\n",
              "      <th>publishedAt</th>\n",
              "      <th>channelTitle</th>\n",
              "      <th>category</th>\n",
              "      <th>trending_date</th>\n",
              "      <th>tags</th>\n",
              "      <th>view_count</th>\n",
              "      <th>likes</th>\n",
              "      <th>comment_count</th>\n",
              "      <th>comments_disabled</th>\n",
              "      <th>ratings_disabled</th>\n",
              "      <th>description</th>\n",
              "      <th>country</th>\n",
              "      <th>subscriber_count</th>\n",
              "      <th>daytime</th>\n",
              "      <th>times_appeared</th>\n",
              "    </tr>\n",
              "  </thead>\n",
              "  <tbody>\n",
              "    <tr>\n",
              "      <th>0</th>\n",
              "      <td>How the Warriors were in the Locker Room after...</td>\n",
              "      <td>2023-05-13 12:48:44</td>\n",
              "      <td>RDCworld1</td>\n",
              "      <td>Sports</td>\n",
              "      <td>2023-05-14</td>\n",
              "      <td>[none]</td>\n",
              "      <td>1733159.0</td>\n",
              "      <td>132947.0</td>\n",
              "      <td>5374.0</td>\n",
              "      <td>False</td>\n",
              "      <td>False</td>\n",
              "      <td>Another installment to the Warriors Locker Roo...</td>\n",
              "      <td>United States</td>\n",
              "      <td>6320000.0</td>\n",
              "      <td>1.0</td>\n",
              "      <td>3.0</td>\n",
              "    </tr>\n",
              "    <tr>\n",
              "      <th>1</th>\n",
              "      <td>FlightReacts To #6 WARRIORS at #7 LAKERS | FUL...</td>\n",
              "      <td>2023-05-13 06:20:56</td>\n",
              "      <td>FlightReacts</td>\n",
              "      <td>Entertainment</td>\n",
              "      <td>2023-05-14</td>\n",
              "      <td>Reactions|Family|vlog|life|NBA|sports|Friends|...</td>\n",
              "      <td>668981.0</td>\n",
              "      <td>37032.0</td>\n",
              "      <td>3496.0</td>\n",
              "      <td>False</td>\n",
              "      <td>False</td>\n",
              "      <td>Thanks for Tuning In!! Lets Get 5 Million Toge...</td>\n",
              "      <td>United States</td>\n",
              "      <td>4830000.0</td>\n",
              "      <td>1.0</td>\n",
              "      <td>3.0</td>\n",
              "    </tr>\n",
              "    <tr>\n",
              "      <th>2</th>\n",
              "      <td>GUESS THE MOM! *Emotional Mother's Day Reveal*</td>\n",
              "      <td>2023-05-13 14:00:07</td>\n",
              "      <td>Jordan Matter</td>\n",
              "      <td>Entertainment</td>\n",
              "      <td>2023-05-14</td>\n",
              "      <td>jordan matter|salish matter|say say matter|bre...</td>\n",
              "      <td>4225973.0</td>\n",
              "      <td>87240.0</td>\n",
              "      <td>11058.0</td>\n",
              "      <td>False</td>\n",
              "      <td>False</td>\n",
              "      <td>Today we reveal my wife for the first time EVE...</td>\n",
              "      <td>United States</td>\n",
              "      <td>15900000.0</td>\n",
              "      <td>1.0</td>\n",
              "      <td>4.0</td>\n",
              "    </tr>\n",
              "    <tr>\n",
              "      <th>3</th>\n",
              "      <td>Why Lightbulbs Might Be The Best Invention Ever</td>\n",
              "      <td>2023-05-13 14:06:52</td>\n",
              "      <td>Veritasium</td>\n",
              "      <td>Education</td>\n",
              "      <td>2023-05-14</td>\n",
              "      <td>veritasium|science|physics</td>\n",
              "      <td>1008255.0</td>\n",
              "      <td>65421.0</td>\n",
              "      <td>2934.0</td>\n",
              "      <td>False</td>\n",
              "      <td>False</td>\n",
              "      <td>Lightbulbs might be the best idea ever – just ...</td>\n",
              "      <td>United States</td>\n",
              "      <td>13600000.0</td>\n",
              "      <td>1.0</td>\n",
              "      <td>5.0</td>\n",
              "    </tr>\n",
              "    <tr>\n",
              "      <th>4</th>\n",
              "      <td>WATERTOK: The Strangest Community on TikTok</td>\n",
              "      <td>2023-05-12 19:00:20</td>\n",
              "      <td>Kurtis Conner</td>\n",
              "      <td>Comedy</td>\n",
              "      <td>2023-05-14</td>\n",
              "      <td>kurtis conner|kurtis connor|watertok|tiktok|co...</td>\n",
              "      <td>1393152.0</td>\n",
              "      <td>138921.0</td>\n",
              "      <td>9946.0</td>\n",
              "      <td>False</td>\n",
              "      <td>False</td>\n",
              "      <td>The Watertok community on TikTok is really str...</td>\n",
              "      <td>United States</td>\n",
              "      <td>4380000.0</td>\n",
              "      <td>0.0</td>\n",
              "      <td>8.0</td>\n",
              "    </tr>\n",
              "  </tbody>\n",
              "</table>\n",
              "</div>\n",
              "      <button class=\"colab-df-convert\" onclick=\"convertToInteractive('df-3cd8ca97-7896-4146-9f22-fa8a574db5b9')\"\n",
              "              title=\"Convert this dataframe to an interactive table.\"\n",
              "              style=\"display:none;\">\n",
              "        \n",
              "  <svg xmlns=\"http://www.w3.org/2000/svg\" height=\"24px\"viewBox=\"0 0 24 24\"\n",
              "       width=\"24px\">\n",
              "    <path d=\"M0 0h24v24H0V0z\" fill=\"none\"/>\n",
              "    <path d=\"M18.56 5.44l.94 2.06.94-2.06 2.06-.94-2.06-.94-.94-2.06-.94 2.06-2.06.94zm-11 1L8.5 8.5l.94-2.06 2.06-.94-2.06-.94L8.5 2.5l-.94 2.06-2.06.94zm10 10l.94 2.06.94-2.06 2.06-.94-2.06-.94-.94-2.06-.94 2.06-2.06.94z\"/><path d=\"M17.41 7.96l-1.37-1.37c-.4-.4-.92-.59-1.43-.59-.52 0-1.04.2-1.43.59L10.3 9.45l-7.72 7.72c-.78.78-.78 2.05 0 2.83L4 21.41c.39.39.9.59 1.41.59.51 0 1.02-.2 1.41-.59l7.78-7.78 2.81-2.81c.8-.78.8-2.07 0-2.86zM5.41 20L4 18.59l7.72-7.72 1.47 1.35L5.41 20z\"/>\n",
              "  </svg>\n",
              "      </button>\n",
              "      \n",
              "  <style>\n",
              "    .colab-df-container {\n",
              "      display:flex;\n",
              "      flex-wrap:wrap;\n",
              "      gap: 12px;\n",
              "    }\n",
              "\n",
              "    .colab-df-convert {\n",
              "      background-color: #E8F0FE;\n",
              "      border: none;\n",
              "      border-radius: 50%;\n",
              "      cursor: pointer;\n",
              "      display: none;\n",
              "      fill: #1967D2;\n",
              "      height: 32px;\n",
              "      padding: 0 0 0 0;\n",
              "      width: 32px;\n",
              "    }\n",
              "\n",
              "    .colab-df-convert:hover {\n",
              "      background-color: #E2EBFA;\n",
              "      box-shadow: 0px 1px 2px rgba(60, 64, 67, 0.3), 0px 1px 3px 1px rgba(60, 64, 67, 0.15);\n",
              "      fill: #174EA6;\n",
              "    }\n",
              "\n",
              "    [theme=dark] .colab-df-convert {\n",
              "      background-color: #3B4455;\n",
              "      fill: #D2E3FC;\n",
              "    }\n",
              "\n",
              "    [theme=dark] .colab-df-convert:hover {\n",
              "      background-color: #434B5C;\n",
              "      box-shadow: 0px 1px 3px 1px rgba(0, 0, 0, 0.15);\n",
              "      filter: drop-shadow(0px 1px 2px rgba(0, 0, 0, 0.3));\n",
              "      fill: #FFFFFF;\n",
              "    }\n",
              "  </style>\n",
              "\n",
              "      <script>\n",
              "        const buttonEl =\n",
              "          document.querySelector('#df-3cd8ca97-7896-4146-9f22-fa8a574db5b9 button.colab-df-convert');\n",
              "        buttonEl.style.display =\n",
              "          google.colab.kernel.accessAllowed ? 'block' : 'none';\n",
              "\n",
              "        async function convertToInteractive(key) {\n",
              "          const element = document.querySelector('#df-3cd8ca97-7896-4146-9f22-fa8a574db5b9');\n",
              "          const dataTable =\n",
              "            await google.colab.kernel.invokeFunction('convertToInteractive',\n",
              "                                                     [key], {});\n",
              "          if (!dataTable) return;\n",
              "\n",
              "          const docLinkHtml = 'Like what you see? Visit the ' +\n",
              "            '<a target=\"_blank\" href=https://colab.research.google.com/notebooks/data_table.ipynb>data table notebook</a>'\n",
              "            + ' to learn more about interactive tables.';\n",
              "          element.innerHTML = '';\n",
              "          dataTable['output_type'] = 'display_data';\n",
              "          await google.colab.output.renderOutput(dataTable, element);\n",
              "          const docLink = document.createElement('div');\n",
              "          docLink.innerHTML = docLinkHtml;\n",
              "          element.appendChild(docLink);\n",
              "        }\n",
              "      </script>\n",
              "    </div>\n",
              "  </div>\n",
              "  "
            ]
          },
          "metadata": {},
          "execution_count": 97
        }
      ]
    },
    {
      "cell_type": "markdown",
      "source": [
        "Вспомним, какие столбцы содержит наш датасет после предобработки и создания новых признаков\n",
        "\n",
        "*   `title` - название видео\n",
        "*   `publishedAt` - время публикации видео, принцип кодирования: \"DAY TIME\"\n",
        "    *   DAY - календарный день выпуска видео в формате YYYY-MM-DD\n",
        "    *   TIME - время в формате HH:MM:SS\n",
        "\n",
        "\n",
        "*   `channelTitle` - название канала, на котором видео было опубликовано\n",
        "*   `category` - категория видео\n",
        "\n",
        "*   `trending_date` - дата, в которую видео попало в список трендов\n",
        "\n",
        "*   `tags` - теги, прикрепленные автором к видео\n",
        "\n",
        "*   `view_count` - количество просмотров\n",
        "*   `likes` - количество лайков\n",
        "*   `comment_count` - количество комментариев под видео\n",
        "*   `comments_disabled` - отключены ли под видео комментарии\n",
        "*   `ratings_disabled` - отключена ли возможность просматривать количество лайков под видео\n",
        "* `description` - описание видео\n",
        "* `country` - страна, в чьи тренды попало видео\n",
        "* `subscriber_count` - количество подписчиков канала\n",
        "* `daytime` - время суток, в которое было опубликовано видео\n",
        "    *   0 - видео опубликовано ночью (с 18:00 до 6:00)\n",
        "    *   1 - видео опубликовано днем (с 6:00 до 18:00)\n",
        "* `times_appeared` - количество стран, в которых видео попало в тренды"
      ],
      "metadata": {
        "id": "WKBpWTAAB-m_"
      }
    },
    {
      "cell_type": "markdown",
      "source": [
        "## Этап 1 - предсказывание количества лайков под видео ##\n",
        "\n"
      ],
      "metadata": {
        "id": "qHsra5mTHkzy"
      }
    },
    {
      "cell_type": "markdown",
      "source": [
        "#### Модель 1 - базовая линейная регрессия ####"
      ],
      "metadata": {
        "id": "-fl_baEDBn-k"
      }
    },
    {
      "cell_type": "markdown",
      "source": [
        "С помощью простой модели линейной регрессии попробуем предсказать количество лайков под видео. Соответственно, в качестве целевой переменной определяем столбец `likes`, в качестве вспомогательных признаков - `category`, `view_count`, `comment_count`, `country`, `subscriber_count`, `times_appeared`.\n",
        "\n",
        "Поделим датасет на тренировочный и тестовый список в пропорции 80 на 20.\n",
        "\n",
        "Также разумным будет убрать из рассмотрения повторяющиеся записи в таблице."
      ],
      "metadata": {
        "id": "051snRx0HzzL"
      }
    },
    {
      "cell_type": "code",
      "source": [
        "df = df.drop_duplicates(subset = 'title')\n",
        "df_encoded = pd.get_dummies(df, columns=['category', 'country'])\n",
        "\n",
        "df_train, df_test = train_test_split(df_encoded, test_size = 0.2, random_state = 42)\n",
        "\n",
        "X_train = df_train.drop(['title', 'publishedAt', 'channelTitle', 'trending_date', 'tags', 'likes', 'comments_disabled', 'ratings_disabled', 'description', 'daytime'], axis = 1)\n",
        "X_test = df_test.drop(['title', 'publishedAt', 'channelTitle', 'trending_date', 'tags', 'likes', 'comments_disabled', 'ratings_disabled', 'description', 'daytime'], axis = 1)\n",
        "\n",
        "\n",
        "y_train = df_train['likes']\n",
        "y_test = df_test['likes']"
      ],
      "metadata": {
        "id": "g4MDmuxJDXgg"
      },
      "execution_count": 98,
      "outputs": []
    },
    {
      "cell_type": "markdown",
      "source": [
        "Замечаем, что среди наших вспомогательных переменных есть два категориальных признака - `category` и `country`. Мы применили метод One Hot Encoding из библиотеки pandas путем использования функции get_dummies"
      ],
      "metadata": {
        "id": "dBAPd6OjS5IU"
      }
    },
    {
      "cell_type": "markdown",
      "source": [
        "Итак, зададим и обучим нашу модель, получим предсказания первого класса"
      ],
      "metadata": {
        "id": "jDuBbC0ZOXAL"
      }
    },
    {
      "cell_type": "code",
      "source": [
        "model = LinearRegression()\n",
        "model.fit(X_train, y_train)\n",
        "pred = model.predict(X_test)"
      ],
      "metadata": {
        "id": "xCibqHweKxrj"
      },
      "execution_count": 99,
      "outputs": []
    },
    {
      "cell_type": "code",
      "source": [
        "plt.figure(figsize = (8, 6))\n",
        "\n",
        "fig, ax = plt.subplots(figsize=(12, 8))\n",
        "ax.grid(which='both')\n",
        "\n",
        "plt.hist(pred, bins = 40, density = True, label = 'гистограмма')\n",
        "plt.title('Гистограмма pred', fontsize = 15)\n",
        "plt.xlabel('Предсказанное значение (млн)', fontsize = 10)\n",
        "plt.ylabel(\"Частота\", fontsize = 10)\n",
        "sns.distplot(pred, hist = False, label = 'плотность распределения')\n",
        "plt.legend(loc = 'upper right');"
      ],
      "metadata": {
        "colab": {
          "base_uri": "https://localhost:8080/",
          "height": 737
        },
        "id": "CuIhDb3gOdxC",
        "outputId": "4976de60-4555-4a5b-8838-7fc1260eadd4"
      },
      "execution_count": 100,
      "outputs": [
        {
          "output_type": "display_data",
          "data": {
            "text/plain": [
              "<Figure size 800x600 with 0 Axes>"
            ]
          },
          "metadata": {}
        },
        {
          "output_type": "display_data",
          "data": {
            "text/plain": [
              "<Figure size 1200x800 with 1 Axes>"
            ],
            "image/png": "[encoded data removed]"
          },
          "metadata": {}
        }
      ]
    },
    {
      "cell_type": "markdown",
      "source": [
        "Распределение предсказаний нашей модели похоже на сдвинутое слева нормальное распределение. Также на графике заметны выбросы"
      ],
      "metadata": {
        "id": "SBRtqZdmMrwL"
      }
    },
    {
      "cell_type": "markdown",
      "source": [
        "Далее для оценки обученной модели посчитаем значения различных метрик"
      ],
      "metadata": {
        "id": "hSW_T4aO1Puj"
      }
    },
    {
      "cell_type": "markdown",
      "source": [
        "1. `Mean Squared Error` - среднеквадратичная ошибка"
      ],
      "metadata": {
        "id": "L_vgWbzfSism"
      }
    },
    {
      "cell_type": "code",
      "source": [
        "mean_squared_error(y_test, pred)"
      ],
      "metadata": {
        "colab": {
          "base_uri": "https://localhost:8080/"
        },
        "id": "2yJZAfRk1OKq",
        "outputId": "21ad621d-0119-44a1-cfd0-f349fd2b999b"
      },
      "execution_count": 101,
      "outputs": [
        {
          "output_type": "execute_result",
          "data": {
            "text/plain": [
              "4380084637.382946"
            ]
          },
          "metadata": {},
          "execution_count": 101
        }
      ]
    },
    {
      "cell_type": "markdown",
      "source": [
        "Получаем достаточно большое значение среднеквадратичной ошибки. Чем ниже значение MSE, тем лучше модель способна предсказывать целевую переменную. В дальнейшем попытаемся оптимизировать нашу модель, чтобы снизить значение метрики"
      ],
      "metadata": {
        "id": "_CFDwhop2YAr"
      }
    },
    {
      "cell_type": "markdown",
      "source": [
        "2. `Mean Absolute Error` - средняя абсолютная ошибка"
      ],
      "metadata": {
        "id": "nqsLaGa53nDa"
      }
    },
    {
      "cell_type": "code",
      "source": [
        "mean_absolute_error(y_test, pred)"
      ],
      "metadata": {
        "colab": {
          "base_uri": "https://localhost:8080/"
        },
        "id": "opPtsvDA2Elr",
        "outputId": "0a1d4842-d896-47e3-adb1-83e311c2e316"
      },
      "execution_count": 102,
      "outputs": [
        {
          "output_type": "execute_result",
          "data": {
            "text/plain": [
              "32494.459016955774"
            ]
          },
          "metadata": {},
          "execution_count": 102
        }
      ]
    },
    {
      "cell_type": "markdown",
      "source": [
        "Опять-таки получаем большое значение метрики. MAE измеряет среднюю абсолютную разницу между предсказанными значениями модели и фактическими значениями целевой переменной. В нашем случае, обученная модель ошибается в среднем на 32494 лайка при предсказывании. Полезным считаем сравнить отклонения нашей модели со стандартным отклонением показателя `likes`"
      ],
      "metadata": {
        "id": "WssEneIW4ITD"
      }
    },
    {
      "cell_type": "code",
      "source": [
        "mean_absolute_error(y_test, pred) / df['likes'].std()"
      ],
      "metadata": {
        "colab": {
          "base_uri": "https://localhost:8080/"
        },
        "id": "LugfTLWm3zvt",
        "outputId": "821a3333-6cc9-4beb-cb6d-ef4f3cf2707d"
      },
      "execution_count": 103,
      "outputs": [
        {
          "output_type": "execute_result",
          "data": {
            "text/plain": [
              "0.25584331450589604"
            ]
          },
          "metadata": {},
          "execution_count": 103
        }
      ]
    },
    {
      "cell_type": "markdown",
      "source": [
        "Отклонения предсказанных нашей моделью значений от истинных составляет около 25% от стандартного отклонения - приемлемый, но все еще высокий уровень ошибки"
      ],
      "metadata": {
        "id": "oCXCawue5uVZ"
      }
    },
    {
      "cell_type": "markdown",
      "source": [
        "3. `R2` - коэффициент детерминации"
      ],
      "metadata": {
        "id": "MO0eg45T6JPi"
      }
    },
    {
      "cell_type": "code",
      "source": [
        "r2_score(y_test, pred)"
      ],
      "metadata": {
        "colab": {
          "base_uri": "https://localhost:8080/"
        },
        "id": "PciGH1rr42-N",
        "outputId": "eb0bb821-328e-4510-f382-8e6425999577"
      },
      "execution_count": 104,
      "outputs": [
        {
          "output_type": "execute_result",
          "data": {
            "text/plain": [
              "0.7408862753707615"
            ]
          },
          "metadata": {},
          "execution_count": 104
        }
      ]
    },
    {
      "cell_type": "markdown",
      "source": [
        "Довольно хороший показатель метрики говорит о том, что модель объясняет около 74% изменчивости целевой переменной. В других словах, около 74% вариации в целевой переменной может быть объяснено или предсказано с использованием обученной нами модели. Оставшиеся 26% изменчивости могут быть связаны с другими факторами, которые модель не учитывает."
      ],
      "metadata": {
        "id": "O1o1VKju9oY2"
      }
    },
    {
      "cell_type": "markdown",
      "source": [
        "Итак, обучив базовую модель линейной регрессии, получаем не самые хорошие значения метрик, несмотря на относительно высокий показатель коэффициента детерминации. В следующем пункте попробуем различными способами оптимизировать обучаемую модель"
      ],
      "metadata": {
        "id": "sZjUSRlu-pWL"
      }
    },
    {
      "cell_type": "markdown",
      "source": [
        "#### Модель 2 - улучшенная базовая линейная регрессия ####"
      ],
      "metadata": {
        "id": "tCjvjxLAFM-7"
      }
    },
    {
      "cell_type": "markdown",
      "source": [
        "Для начала отнормируем наши числовые показатели в отрезок от 0 до 1"
      ],
      "metadata": {
        "id": "2rmKvBgdFbEQ"
      }
    },
    {
      "cell_type": "code",
      "source": [
        "scaler = preprocessing.MinMaxScaler()\n",
        "\n",
        "numeric_data = X_train.select_dtypes([np.number])\n",
        "numeric_features = numeric_data.columns\n",
        "\n",
        "X_train_scaled = scaler.fit_transform(X_train[numeric_features])\n",
        "X_test_scaled = scaler.transform(X_test[numeric_features])"
      ],
      "metadata": {
        "id": "KMVYtIYoFMVX"
      },
      "execution_count": 105,
      "outputs": []
    },
    {
      "cell_type": "markdown",
      "source": [
        "Далее проведем перебор по сетке для поиска наиболее оптимальных показателей параметров нашей линейной регрессии, используем перебор гиперпараметров по сетке - GridSearchCV. В качестве метрики оценки производительности взято отрицательное значение MSE"
      ],
      "metadata": {
        "id": "JRyRBU9_GAyd"
      }
    },
    {
      "cell_type": "code",
      "execution_count": 106,
      "metadata": {
        "colab": {
          "base_uri": "https://localhost:8080/"
        },
        "id": "T_1zxQhWBlUD",
        "outputId": "c97332c7-c1c9-40b3-ea1e-8d4275ea941f"
      },
      "outputs": [
        {
          "output_type": "stream",
          "name": "stdout",
          "text": [
            "Оптимальный метод оптимизации - {'copy_X': True, 'fit_intercept': True, 'n_jobs': -1}, значение Negative MSE - -32266.06720263864\n"
          ]
        }
      ],
      "source": [
        "params = {'fit_intercept': [True, False],\n",
        "          'copy_X': [True, False],\n",
        "          'n_jobs': [-1, 0, 1, 2, 3, 4]}\n",
        "\n",
        "searcher = GridSearchCV(LinearRegression(), param_grid = params, scoring = 'neg_mean_absolute_error', cv = 4)\n",
        "\n",
        "searcher.fit(X_train_scaled, y_train)\n",
        "\n",
        "print(f'Оптимальный метод оптимизации - {searcher.best_params_}, значение Negative MSE - {searcher.best_score_}')"
      ]
    },
    {
      "cell_type": "code",
      "source": [
        "model = LinearRegression(copy_X = True, fit_intercept = True, n_jobs = -1)\n",
        "model.fit(X_train_scaled, y_train)\n",
        "pred = model.predict(X_test_scaled)"
      ],
      "metadata": {
        "id": "m8WvUpegpG-X"
      },
      "execution_count": 107,
      "outputs": []
    },
    {
      "cell_type": "markdown",
      "source": [
        "Далее для оценки оптимизированной модели посчитаем значения всё тех же метрик"
      ],
      "metadata": {
        "id": "AwHn0_0upG-Z"
      }
    },
    {
      "cell_type": "markdown",
      "source": [
        "1. `Mean Squared Error` - среднеквадратичная ошибка"
      ],
      "metadata": {
        "id": "nUmVSiykpG-Z"
      }
    },
    {
      "cell_type": "code",
      "source": [
        "mean_squared_error(y_test, pred)"
      ],
      "metadata": {
        "colab": {
          "base_uri": "https://localhost:8080/"
        },
        "outputId": "d6994c8f-97e8-4014-8cfa-d84aae7bf862",
        "id": "4dYOq4BBpG-a"
      },
      "execution_count": 108,
      "outputs": [
        {
          "output_type": "execute_result",
          "data": {
            "text/plain": [
              "4379486171.183333"
            ]
          },
          "metadata": {},
          "execution_count": 108
        }
      ]
    },
    {
      "cell_type": "markdown",
      "source": [
        "Всё еще получаем достаточно большое значение среднеквадратичной ошибки. Показатель уменьшился лишь на 0.01%"
      ],
      "metadata": {
        "id": "L6NHbPO3pG-a"
      }
    },
    {
      "cell_type": "markdown",
      "source": [
        "2. `Mean Absolute Error` - средняя абсолютная ошибка"
      ],
      "metadata": {
        "id": "2HiG_s2PpG-a"
      }
    },
    {
      "cell_type": "code",
      "source": [
        "mean_absolute_error(y_test, pred)"
      ],
      "metadata": {
        "colab": {
          "base_uri": "https://localhost:8080/"
        },
        "outputId": "db297f1d-3f9e-4dc0-e5be-8668b92753a6",
        "id": "KqY6RXLbpG-b"
      },
      "execution_count": 109,
      "outputs": [
        {
          "output_type": "execute_result",
          "data": {
            "text/plain": [
              "32506.50925925926"
            ]
          },
          "metadata": {},
          "execution_count": 109
        }
      ]
    },
    {
      "cell_type": "markdown",
      "source": [
        "Опять-таки получаем большое значение метрики. Наблюдаем повышение на 0.03%"
      ],
      "metadata": {
        "id": "c8XwueTypG-c"
      }
    },
    {
      "cell_type": "markdown",
      "source": [
        "3. `R2` - коэффициент детерминации"
      ],
      "metadata": {
        "id": "aZPPaNfCpG-d"
      }
    },
    {
      "cell_type": "code",
      "source": [
        "r2_score(y_test, pred)"
      ],
      "metadata": {
        "colab": {
          "base_uri": "https://localhost:8080/"
        },
        "outputId": "560c7689-1fe3-493d-f46a-e5ee9106b3c3",
        "id": "YReIdUdUpG-d"
      },
      "execution_count": 110,
      "outputs": [
        {
          "output_type": "execute_result",
          "data": {
            "text/plain": [
              "0.7409216789802541"
            ]
          },
          "metadata": {},
          "execution_count": 110
        }
      ]
    },
    {
      "cell_type": "markdown",
      "source": [
        "Значение метрики увеличилось всего на 0.004%"
      ],
      "metadata": {
        "id": "W0CqaDTlpG-e"
      }
    },
    {
      "cell_type": "markdown",
      "source": [
        "В итоге, использование перебора гиперпараметров по сетке не дало ощутимых результатов. Мы объясняем это тем, что линейная регрессия является относительно простой моделью, и ее производительность может быть не сильно зависима от выбора гиперпараметров."
      ],
      "metadata": {
        "id": "cZWK1ASlk1sD"
      }
    },
    {
      "cell_type": "markdown",
      "source": [
        "## Этап 2 - предсказывание отключения комментариев под видео ##\n",
        "\n"
      ],
      "metadata": {
        "id": "iSbFTmNvqXbG"
      }
    },
    {
      "cell_type": "markdown",
      "source": [
        "#### Шаг 1 - обучаем модель RandomForestClassifier ####"
      ],
      "metadata": {
        "id": "bHp0SrtwbTAC"
      }
    },
    {
      "cell_type": "markdown",
      "source": [
        "Для того, чтобы осуществить предсказание бинарной целевой переменной, обучим модель случайного леса (RandomForestClassifier) из библиотеки sklearn.\n",
        "\n",
        "Для этого нам опять потребуется применить метод One Hot Encoding для переменной `category`. В этот раз мы изнчально решили не использовать столбец `country`, так как уверены в отсутствии зависимости между отключением комментариев и страной, в список трендов которой попало видео.\n",
        "\n",
        "Итак, в качестве целевой переменной используем столбец `comments_disabled`, в качестве вспомогательных признаков - `category`, `view_count`, `likes`, `subscriber_count`, `ratings_disabled`.\n",
        "\n",
        "Также форматируем столбцы `rating_disabled` и `comments_disabled` - вместо булевых переменных True и False будем работать с бинарными признаками 1 и 0"
      ],
      "metadata": {
        "id": "tSpvvqoJwbk5"
      }
    },
    {
      "cell_type": "code",
      "source": [
        "df_encoded = pd.get_dummies(df, columns=['category'])\n",
        "\n",
        "df_encoded['ratings_disabled'] = df_encoded['ratings_disabled'].apply(lambda x: 1 if x == 'True' else 0)\n",
        "df_encoded['comments_disabled'] = df_encoded['comments_disabled'].apply(lambda x: 1 if x == 'True' else 0)\n",
        "\n",
        "df_train, df_test = train_test_split(df_encoded, test_size = 0.2, random_state = 42)\n",
        "\n",
        "X_train = df_train.drop(['title', 'publishedAt', 'channelTitle', 'trending_date', 'tags', 'description', 'daytime', 'country', 'comment_count', 'comments_disabled', 'times_appeared'], axis = 1)\n",
        "X_test = df_test.drop(['title', 'publishedAt', 'channelTitle', 'trending_date', 'tags', 'description', 'daytime', 'country', 'comment_count', 'comments_disabled', 'times_appeared'], axis = 1)\n",
        "\n",
        "\n",
        "y_train = df_train['comments_disabled']\n",
        "y_test = df_test['comments_disabled']"
      ],
      "metadata": {
        "id": "t4h8qFdHtHnL"
      },
      "execution_count": 111,
      "outputs": []
    },
    {
      "cell_type": "markdown",
      "source": [
        "После подготовки всех данных, разделения выборки на тестовую и тренировочную мы готовы приступить к процессу обучения модели и получения предсказаний первого класса"
      ],
      "metadata": {
        "id": "d21XgSWm1Mm9"
      }
    },
    {
      "cell_type": "code",
      "source": [
        "model = RandomForestClassifier(n_estimators=1000,\n",
        "                               bootstrap = True,\n",
        "                               max_features = 'sqrt',\n",
        "                               random_state = 777)\n",
        "\n",
        "model.fit(X_train, y_train)\n",
        "\n",
        "pred = model.predict(X_test)\n",
        "pred_proba = model.predict_proba(X_test)[:, 1]"
      ],
      "metadata": {
        "id": "fMtoM68_DDhQ"
      },
      "execution_count": 112,
      "outputs": []
    },
    {
      "cell_type": "markdown",
      "source": [
        "#### Оценка модели ####"
      ],
      "metadata": {
        "id": "umhElBTr10m6"
      }
    },
    {
      "cell_type": "markdown",
      "source": [
        "Для оценки обученной модели случайного леса посчитаем значение ROC AUC\n",
        "\n",
        "Показатель ROC AUC измеряет площадь под ROC кривой, которая показывает зависимость между долей верно положительных и долей ложно положительных классификаций при варьировании порога классификации."
      ],
      "metadata": {
        "id": "5OMbxONe2dd6"
      }
    },
    {
      "cell_type": "code",
      "source": [
        "roc_value = roc_auc_score(y_test, pred_proba)\n",
        "roc_value"
      ],
      "metadata": {
        "colab": {
          "base_uri": "https://localhost:8080/"
        },
        "id": "Ag12NKFhx4TZ",
        "outputId": "dfa7937e-3238-421f-8f6b-c7351a0e43ff"
      },
      "execution_count": 113,
      "outputs": [
        {
          "output_type": "execute_result",
          "data": {
            "text/plain": [
              "0.690906954887218"
            ]
          },
          "metadata": {},
          "execution_count": 113
        }
      ]
    },
    {
      "cell_type": "code",
      "source": [
        "base_fpr, base_tpr, _ = roc_curve(y_test, [1 for _ in range(len(y_test))])\n",
        "model_fpr, model_tpr, _ = roc_curve(y_test, pred_proba)\n",
        "\n",
        "plt.figure(figsize = (8, 6))\n",
        "\n",
        "fig, ax = plt.subplots(figsize=(12, 8))\n",
        "ax.grid(which='both')\n",
        "\n",
        "plt.plot(model_fpr, model_tpr, color = 'red', label = 'обученная модель')\n",
        "plt.plot(base_fpr, base_tpr, color = 'blue', label = 'случайный классификатор')\n",
        "\n",
        "plt.xlabel('False Positive Rate')\n",
        "plt.ylabel('True Positive Rate')\n",
        "plt.title('ROC Curves')\n",
        "plt.legend(loc = 'upper left');"
      ],
      "metadata": {
        "colab": {
          "base_uri": "https://localhost:8080/",
          "height": 735
        },
        "id": "36Y49ThYAOOj",
        "outputId": "5023ce22-340f-4452-91c1-4a9e01533423"
      },
      "execution_count": 114,
      "outputs": [
        {
          "output_type": "display_data",
          "data": {
            "text/plain": [
              "<Figure size 800x600 with 0 Axes>"
            ]
          },
          "metadata": {}
        },
        {
          "output_type": "display_data",
          "data": {
            "text/plain": [
              "<Figure size 1200x800 with 1 Axes>"
            ],
            "image/png": "[encoded data removed]"
          },
          "metadata": {}
        }
      ]
    },
    {
      "cell_type": "markdown",
      "source": [
        "Получаем величину площади под ROC кривой - 0.69, наша модель дает результаты лучше случайного классификатора!"
      ],
      "metadata": {
        "id": "0z88_L4nDvyX"
      }
    },
    {
      "cell_type": "markdown",
      "source": [
        "Далее оценим нашу модель с помощью построения матрицы путаницы"
      ],
      "metadata": {
        "id": "zWNtaak4ZMBS"
      }
    },
    {
      "cell_type": "code",
      "source": [
        "def plot_confusion_matrix(cm, classes,\n",
        "                          normalize=False,\n",
        "                          title='Confusion matrix',\n",
        "                          cmap=plt.cm.Oranges):\n",
        "    \"\"\"\n",
        "    Функция для построения матрицы была взята из источника: http://scikit-learn.org/stable/auto_examples/model_selection/plot_confusion_matrix.html\n",
        "    \"\"\"\n",
        "    if normalize:\n",
        "        cm = cm.astype('float') / cm.sum(axis=1)[:, np.newaxis]\n",
        "\n",
        "\n",
        "    plt.figure(figsize = (7, 7))\n",
        "    plt.imshow(cm, interpolation='nearest', cmap=cmap)\n",
        "    plt.title(title, size = 14)\n",
        "    plt.colorbar(aspect=4)\n",
        "    tick_marks = np.arange(len(classes))\n",
        "    plt.xticks(tick_marks, classes, rotation=45, size = 10)\n",
        "    plt.yticks(tick_marks, classes, size = 10)\n",
        "\n",
        "    fmt = '.2f' if normalize else 'd'\n",
        "    thresh = cm.max() / 2.\n",
        "\n",
        "    # Labeling the plot\n",
        "    for i, j in itertools.product(range(cm.shape[0]), range(cm.shape[1])):\n",
        "        plt.text(j, i, format(cm[i, j], fmt), fontsize = 10,\n",
        "                 horizontalalignment=\"center\",\n",
        "                 color=\"white\" if cm[i, j] > thresh else \"black\")\n",
        "\n",
        "    plt.grid(None)\n",
        "    plt.tight_layout()\n",
        "    plt.ylabel('Реальность', size = 12)\n",
        "    plt.xlabel('Предсказание модели', size = 12);"
      ],
      "metadata": {
        "id": "2h2f9cfNYRrE"
      },
      "execution_count": 115,
      "outputs": []
    },
    {
      "cell_type": "code",
      "source": [
        "cm = confusion_matrix(y_test, pred)\n",
        "plot_confusion_matrix(cm, classes = ['Не отключены', 'Отключены'],\n",
        "                      title = 'Матрица путаницы для отключения комментариев', normalize=False)"
      ],
      "metadata": {
        "colab": {
          "base_uri": "https://localhost:8080/",
          "height": 593
        },
        "id": "oBYGmi0gZTfQ",
        "outputId": "712a264a-c609-4fa3-ed1a-23f8a3a098d9"
      },
      "execution_count": 116,
      "outputs": [
        {
          "output_type": "display_data",
          "data": {
            "text/plain": [
              "<Figure size 700x700 with 2 Axes>"
            ],
            "image/png": "[encoded data removed]"
          },
          "metadata": {}
        }
      ]
    },
    {
      "cell_type": "markdown",
      "source": [
        "В результате получаем следующие значения:\n",
        "> `True Positive` и `True Negative` - суммарно нами было верно предсказано 531 отключение комментариев\n",
        "\n",
        "> `False Negative` и `False Positive` - суммарно нами было допущено 9 ошибок при предсказывании отключения комментариев\n",
        "\n",
        "Столь высокие результаты отсутсвия ошибок мы объясняем очень большим количеством видеороликов с неотключенными комментариями\n",
        "\n"
      ],
      "metadata": {
        "id": "Uf8-83q7UKLe"
      }
    },
    {
      "cell_type": "markdown",
      "source": [
        "Теперь посмотрим на вляиние тех или иных переменных на предугадывание обученной нами модели"
      ],
      "metadata": {
        "id": "LPzXsSFbSa6-"
      }
    },
    {
      "cell_type": "code",
      "source": [
        "impact = pd.DataFrame({'feature': list(X_train),\n",
        "                   'importance': model.feature_importances_}).\\\n",
        "                    sort_values('importance', ascending = False)\n",
        "impact.head()"
      ],
      "metadata": {
        "colab": {
          "base_uri": "https://localhost:8080/",
          "height": 206
        },
        "id": "7aaFhjvLN7HL",
        "outputId": "9ba5f3c5-ae53-44b0-bfbe-c4597510f272"
      },
      "execution_count": 117,
      "outputs": [
        {
          "output_type": "execute_result",
          "data": {
            "text/plain": [
              "                     feature  importance\n",
              "1                      likes    0.324271\n",
              "3           subscriber_count    0.295724\n",
              "0                 view_count    0.269945\n",
              "12  category_News & Politics    0.048442\n",
              "7     category_Entertainment    0.015147"
            ],
            "text/html": [
              "\n",
              "  <div id=\"df-2c3d37cb-ebb7-4d88-b34f-c783ea131798\">\n",
              "    <div class=\"colab-df-container\">\n",
              "      <div>\n",
              "<style scoped>\n",
              "    .dataframe tbody tr th:only-of-type {\n",
              "        vertical-align: middle;\n",
              "    }\n",
              "\n",
              "    .dataframe tbody tr th {\n",
              "        vertical-align: top;\n",
              "    }\n",
              "\n",
              "    .dataframe thead th {\n",
              "        text-align: right;\n",
              "    }\n",
              "</style>\n",
              "<table border=\"1\" class=\"dataframe\">\n",
              "  <thead>\n",
              "    <tr style=\"text-align: right;\">\n",
              "      <th></th>\n",
              "      <th>feature</th>\n",
              "      <th>importance</th>\n",
              "    </tr>\n",
              "  </thead>\n",
              "  <tbody>\n",
              "    <tr>\n",
              "      <th>1</th>\n",
              "      <td>likes</td>\n",
              "      <td>0.324271</td>\n",
              "    </tr>\n",
              "    <tr>\n",
              "      <th>3</th>\n",
              "      <td>subscriber_count</td>\n",
              "      <td>0.295724</td>\n",
              "    </tr>\n",
              "    <tr>\n",
              "      <th>0</th>\n",
              "      <td>view_count</td>\n",
              "      <td>0.269945</td>\n",
              "    </tr>\n",
              "    <tr>\n",
              "      <th>12</th>\n",
              "      <td>category_News &amp; Politics</td>\n",
              "      <td>0.048442</td>\n",
              "    </tr>\n",
              "    <tr>\n",
              "      <th>7</th>\n",
              "      <td>category_Entertainment</td>\n",
              "      <td>0.015147</td>\n",
              "    </tr>\n",
              "  </tbody>\n",
              "</table>\n",
              "</div>\n",
              "      <button class=\"colab-df-convert\" onclick=\"convertToInteractive('df-2c3d37cb-ebb7-4d88-b34f-c783ea131798')\"\n",
              "              title=\"Convert this dataframe to an interactive table.\"\n",
              "              style=\"display:none;\">\n",
              "        \n",
              "  <svg xmlns=\"http://www.w3.org/2000/svg\" height=\"24px\"viewBox=\"0 0 24 24\"\n",
              "       width=\"24px\">\n",
              "    <path d=\"M0 0h24v24H0V0z\" fill=\"none\"/>\n",
              "    <path d=\"M18.56 5.44l.94 2.06.94-2.06 2.06-.94-2.06-.94-.94-2.06-.94 2.06-2.06.94zm-11 1L8.5 8.5l.94-2.06 2.06-.94-2.06-.94L8.5 2.5l-.94 2.06-2.06.94zm10 10l.94 2.06.94-2.06 2.06-.94-2.06-.94-.94-2.06-.94 2.06-2.06.94z\"/><path d=\"M17.41 7.96l-1.37-1.37c-.4-.4-.92-.59-1.43-.59-.52 0-1.04.2-1.43.59L10.3 9.45l-7.72 7.72c-.78.78-.78 2.05 0 2.83L4 21.41c.39.39.9.59 1.41.59.51 0 1.02-.2 1.41-.59l7.78-7.78 2.81-2.81c.8-.78.8-2.07 0-2.86zM5.41 20L4 18.59l7.72-7.72 1.47 1.35L5.41 20z\"/>\n",
              "  </svg>\n",
              "      </button>\n",
              "      \n",
              "  <style>\n",
              "    .colab-df-container {\n",
              "      display:flex;\n",
              "      flex-wrap:wrap;\n",
              "      gap: 12px;\n",
              "    }\n",
              "\n",
              "    .colab-df-convert {\n",
              "      background-color: #E8F0FE;\n",
              "      border: none;\n",
              "      border-radius: 50%;\n",
              "      cursor: pointer;\n",
              "      display: none;\n",
              "      fill: #1967D2;\n",
              "      height: 32px;\n",
              "      padding: 0 0 0 0;\n",
              "      width: 32px;\n",
              "    }\n",
              "\n",
              "    .colab-df-convert:hover {\n",
              "      background-color: #E2EBFA;\n",
              "      box-shadow: 0px 1px 2px rgba(60, 64, 67, 0.3), 0px 1px 3px 1px rgba(60, 64, 67, 0.15);\n",
              "      fill: #174EA6;\n",
              "    }\n",
              "\n",
              "    [theme=dark] .colab-df-convert {\n",
              "      background-color: #3B4455;\n",
              "      fill: #D2E3FC;\n",
              "    }\n",
              "\n",
              "    [theme=dark] .colab-df-convert:hover {\n",
              "      background-color: #434B5C;\n",
              "      box-shadow: 0px 1px 3px 1px rgba(0, 0, 0, 0.15);\n",
              "      filter: drop-shadow(0px 1px 2px rgba(0, 0, 0, 0.3));\n",
              "      fill: #FFFFFF;\n",
              "    }\n",
              "  </style>\n",
              "\n",
              "      <script>\n",
              "        const buttonEl =\n",
              "          document.querySelector('#df-2c3d37cb-ebb7-4d88-b34f-c783ea131798 button.colab-df-convert');\n",
              "        buttonEl.style.display =\n",
              "          google.colab.kernel.accessAllowed ? 'block' : 'none';\n",
              "\n",
              "        async function convertToInteractive(key) {\n",
              "          const element = document.querySelector('#df-2c3d37cb-ebb7-4d88-b34f-c783ea131798');\n",
              "          const dataTable =\n",
              "            await google.colab.kernel.invokeFunction('convertToInteractive',\n",
              "                                                     [key], {});\n",
              "          if (!dataTable) return;\n",
              "\n",
              "          const docLinkHtml = 'Like what you see? Visit the ' +\n",
              "            '<a target=\"_blank\" href=https://colab.research.google.com/notebooks/data_table.ipynb>data table notebook</a>'\n",
              "            + ' to learn more about interactive tables.';\n",
              "          element.innerHTML = '';\n",
              "          dataTable['output_type'] = 'display_data';\n",
              "          await google.colab.output.renderOutput(dataTable, element);\n",
              "          const docLink = document.createElement('div');\n",
              "          docLink.innerHTML = docLinkHtml;\n",
              "          element.appendChild(docLink);\n",
              "        }\n",
              "      </script>\n",
              "    </div>\n",
              "  </div>\n",
              "  "
            ]
          },
          "metadata": {},
          "execution_count": 117
        }
      ]
    },
    {
      "cell_type": "markdown",
      "source": [
        "Подробнее взглянем на взаимосвязи:\n",
        "\n",
        "> `likes`, `subscriber_count`, `view_count` - видео, набравшее большое количество лайков или просмотров, скорее всего, посвящено какой-то интересной, возможно противоречивой теме. Именно поэтому во избежание нежелательных комментариев или спама, обсуждения под такими видео недоступны\n",
        "\n",
        "> Видеоролики категории `News & Politics` - видео, связанные с политикой и новостями, могут привлекать большое количество комментариев, включая мнения, спекуляции и различные точки зрения. Это может привести к распространению непроверенных данных, дезинформации или фейковых новостей.\n",
        "\n",
        "> Видеоролики категории `Entertainment` - видео развлекательного характера часто привлекают широкую аудиторию, и комментарии могут содержать негативные или оскорбительные высказывания. Отключение комментариев помогает предотвратить негативную атмосферу и создать более приятное пространство для зрителей.\n",
        "\n",
        "\n",
        "\n",
        "\n",
        "\n"
      ],
      "metadata": {
        "id": "t563jQw7Uj7B"
      }
    },
    {
      "cell_type": "markdown",
      "source": [
        "#### Шаг 2 - поиск наиболее оптимальных параметров через RandomizedSearchCV ####"
      ],
      "metadata": {
        "id": "EPPXkMKsbeWZ"
      }
    },
    {
      "cell_type": "markdown",
      "source": [
        "После определения необходимых параметров и их значений запускаем процесс перебора и обучаем новую модель согласно полученным оптимальным показателям"
      ],
      "metadata": {
        "id": "ZwSjFSClftzA"
      }
    },
    {
      "cell_type": "code",
      "source": [
        "param_grid = {\n",
        "    'n_estimators': np.linspace(10, 200).astype(int),\n",
        "    'max_depth': [None] + list(np.linspace(3, 20).astype(int)),\n",
        "    'max_features': ['auto', 'sqrt', None] + list(np.arange(0.5, 1, 0.01)),\n",
        "    'max_leaf_nodes': [None] + list(np.linspace(10, 50, 1000).astype(int)),\n",
        "    'min_samples_split': [2, 5, 10],\n",
        "    'bootstrap': [True, False]\n",
        "}\n",
        "\n",
        "estimator = RandomForestClassifier(random_state = 777)\n",
        "\n",
        "rs = RandomizedSearchCV(estimator, param_grid, n_jobs = -1,\n",
        "                        scoring = 'roc_auc', cv = 3,\n",
        "                        n_iter = 10, verbose = 1, random_state=777)\n",
        "\n",
        "rs.fit(X_train, y_train)\n",
        "rs.best_params_"
      ],
      "metadata": {
        "colab": {
          "base_uri": "https://localhost:8080/"
        },
        "id": "Kk-idKutO7e2",
        "outputId": "33d64271-3076-4b80-ca1b-d82842990197"
      },
      "execution_count": 118,
      "outputs": [
        {
          "output_type": "stream",
          "name": "stdout",
          "text": [
            "Fitting 3 folds for each of 10 candidates, totalling 30 fits\n"
          ]
        },
        {
          "output_type": "execute_result",
          "data": {
            "text/plain": [
              "{'n_estimators': 192,\n",
              " 'min_samples_split': 10,\n",
              " 'max_leaf_nodes': 35,\n",
              " 'max_features': 0.6000000000000001,\n",
              " 'max_depth': 12,\n",
              " 'bootstrap': True}"
            ]
          },
          "metadata": {},
          "execution_count": 118
        }
      ]
    },
    {
      "cell_type": "code",
      "source": [
        "model = RandomForestClassifier(n_estimators = 192,\n",
        "                               min_samples_split = 10,\n",
        "                               max_leaf_nodes = 35,\n",
        "                               max_features = 0.6000000000000001,\n",
        "                               max_depth = 12,\n",
        "                               bootstrap = True,\n",
        "                               random_state = 777)\n",
        "\n",
        "model.fit(X_train, y_train)\n",
        "\n",
        "pred = model.predict(X_test)\n",
        "pred_proba = model.predict_proba(X_test)[:, 1]"
      ],
      "metadata": {
        "id": "T3SYnofIcIcq"
      },
      "execution_count": 119,
      "outputs": []
    },
    {
      "cell_type": "code",
      "source": [
        "roc_value = roc_auc_score(y_test, pred_proba)\n",
        "roc_value"
      ],
      "metadata": {
        "colab": {
          "base_uri": "https://localhost:8080/"
        },
        "outputId": "feecffb6-7841-4f87-f1e6-51c7cb2d08b9",
        "id": "CKUI1fpNcIcr"
      },
      "execution_count": 120,
      "outputs": [
        {
          "output_type": "execute_result",
          "data": {
            "text/plain": [
              "0.6699953007518797"
            ]
          },
          "metadata": {},
          "execution_count": 120
        }
      ]
    },
    {
      "cell_type": "code",
      "source": [
        "base_fpr, base_tpr, _ = roc_curve(y_test, [1 for _ in range(len(y_test))])\n",
        "model_fpr, model_tpr, _ = roc_curve(y_test, pred_proba)\n",
        "\n",
        "plt.figure(figsize = (8, 6))\n",
        "\n",
        "fig, ax = plt.subplots(figsize=(12, 8))\n",
        "ax.grid(which='both')\n",
        "\n",
        "plt.plot(model_fpr, model_tpr, color = 'red', label = 'обученная модель')\n",
        "plt.plot(base_fpr, base_tpr, color = 'blue', label = 'случайный классификатор')\n",
        "\n",
        "plt.xlabel('False Positive Rate')\n",
        "plt.ylabel('True Positive Rate')\n",
        "plt.title('ROC Curves')\n",
        "plt.legend(loc = 'upper left');"
      ],
      "metadata": {
        "colab": {
          "base_uri": "https://localhost:8080/",
          "height": 735
        },
        "outputId": "4b6af1e9-e3f9-47ba-c0d6-ec44705094fb",
        "id": "Q029x2kRcIcr"
      },
      "execution_count": 121,
      "outputs": [
        {
          "output_type": "display_data",
          "data": {
            "text/plain": [
              "<Figure size 800x600 with 0 Axes>"
            ]
          },
          "metadata": {}
        },
        {
          "output_type": "display_data",
          "data": {
            "text/plain": [
              "<Figure size 1200x800 with 1 Axes>"
            ],
            "image/png": "[encoded data removed]"
          },
          "metadata": {}
        }
      ]
    },
    {
      "cell_type": "markdown",
      "source": [
        "На удивление, новая модель дает нам более низкие показатели ROC AUC - 0.69 против 0.67"
      ],
      "metadata": {
        "id": "ibjiAoZ2f7Vm"
      }
    },
    {
      "cell_type": "markdown",
      "source": [
        "## Этап 3 - результаты ##"
      ],
      "metadata": {
        "id": "ZY_xn74KNTUw"
      }
    },
    {
      "cell_type": "markdown",
      "source": [
        "Итак, мы обучили две модели: базовую линейную регрессию (предсказывание количества лайков под видео) и случайный лес (предсказывание отключения комментариев под видео), получили предсказания первого класса, показатели метрик. Далее нами были предприняты попытки улучшить качество обучаемых моделей - в обеих моделях мы применили перебор гиперпараметров по сетке, в случае с линейной регрессией была предпринята попытка улучшить показатели метрик путем нормализации данных в отрезок от 0 до 1, а также изменения структуры вспомогательных показателей.\n",
        "\n",
        "В результате, обученная нами линейная регрессия дала чуть более хорошие значения оцениваемых метрик, однако все еще наблюдается высокое значение отклонения предсказанных значений от фактических, делаем предположение о не самой хорошей структуре используемых выборок.\n",
        "\n",
        "После перебора гиперпараметров в модели случайного леса значение метрики ROC AUC и вовсе сократилось, однако обученная модель все еще предсказывает лучше случайного классификатора. Отдельно хотелось бы отметить найденные нами интересные взаимосвязи между фактом отключения комментариев и другими показателями, такими как `likes`, `subscriber_count`, `view_count` и принадлежностью видеоролика к категориям `News & Politics` или `Entertainment`. Занимательно то, что данные взаимосвязи не были найдены на этапе корреляционного анализа - делаем вывод о том, как точно вариации в целевой переменной могут быть объяснены или предсказаны с использованием обученной нами модели."
      ],
      "metadata": {
        "id": "_ytYJLa8N9IN"
      }
    }
  ]
}